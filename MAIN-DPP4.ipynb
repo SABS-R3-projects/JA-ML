{
 "cells": [
  {
   "cell_type": "markdown",
   "metadata": {},
   "source": [
    "# Machine Learning - Main File"
   ]
  },
  {
   "cell_type": "markdown",
   "metadata": {},
   "source": [
    "**By Jakke Neiro & Andrei Roibu** "
   ]
  },
  {
   "cell_type": "markdown",
   "metadata": {},
   "source": [
    "## 1. Importing All Required Dependencies"
   ]
  },
  {
   "cell_type": "markdown",
   "metadata": {},
   "source": [
    "This script imports all the required dependencies for running the different functions and the codes. Also, by using the _run_ command, the various notebooks are imprted into the main notebook."
   ]
  },
  {
   "cell_type": "code",
   "execution_count": 1,
   "metadata": {},
   "outputs": [],
   "source": [
    "import numpy as np\n",
    "import pandas as pd\n",
    "import matplotlib.pyplot as plt\n",
    "from scipy import interp\n",
    "\n",
    "import glob, os\n",
    "\n",
    "from sklearn.metrics import accuracy_score, roc_curve, roc_auc_score, auc, roc_auc_score, confusion_matrix, classification_report, log_loss\n",
    "from sklearn.model_selection import train_test_split\n",
    "from sklearn.linear_model import LogisticRegression\n",
    "from sklearn.discriminant_analysis import LinearDiscriminantAnalysis, QuadraticDiscriminantAnalysis\n",
    "\n",
    "from sklearn import svm, datasets, tree\n",
    "from sklearn.ensemble import RandomForestClassifier\n",
    "\n",
    "\n",
    "from sklearn.neural_network import MLPClassifier, MLPRegressor\n",
    "from sklearn.preprocessing import StandardScaler\n"
   ]
  },
  {
   "cell_type": "code",
   "execution_count": 2,
   "metadata": {},
   "outputs": [],
   "source": [
    "os.chdir(\"./data\")"
   ]
  },
  {
   "cell_type": "markdown",
   "metadata": {},
   "source": [
    "## 2. Data Pre-Processing"
   ]
  },
  {
   "cell_type": "markdown",
   "metadata": {},
   "source": [
    "This section imports all the required datasets as pandas dataframes, concatenates them, after which it pre-processes them by eliminating all non-numerical data and columns which contain the same data-values. This script also creates the input dataset and the labeled output dataset."
   ]
  },
  {
   "cell_type": "code",
   "execution_count": 3,
   "metadata": {},
   "outputs": [],
   "source": [
    "def data_preprocessing():\n",
    "    \n",
    "    '''\n",
    "    This reads all the input datasets, pre-processes them and then generates the input dataset and the labelled dataset.\n",
    "    \n",
    "    Args:\n",
    "        None\n",
    "        \n",
    "    Returns:\n",
    "        X (ndarray): A 2D array containing the input processed data\n",
    "        y (ndarray): A 1D array containing a list of labels, with 1 corresponding to \"active\" and 0 corresponding to \"dummy\"\n",
    "        \n",
    "    '''\n",
    "    \n",
    "    df_list = []\n",
    "    y = np.array([])\n",
    "    for file in glob.glob(\"dpp4*.csv\"):\n",
    "        df = pd.read_csv(file, header = 0)\n",
    "\n",
    "        cols = df.shape[0]\n",
    "        if \"actives\" in file:\n",
    "            y_df = np.ones((cols))\n",
    "        else:\n",
    "            y_df = np.zeros((cols))\n",
    "        y = np.concatenate((y,y_df), axis=0)\n",
    "\n",
    "        df_list.append(df)\n",
    "\n",
    "    global_df = pd.concat(df_list, axis=0, ignore_index=True)\n",
    "    global_df = global_df._get_numeric_data()\n",
    "    global_df = global_df.loc[:, (global_df != global_df.iloc[0]).any()] \n",
    "\n",
    "    X_headers = list(global_df.columns.values)\n",
    "    X = global_df.values\n",
    "    \n",
    "    return X,y"
   ]
  },
  {
   "cell_type": "code",
   "execution_count": 4,
   "metadata": {},
   "outputs": [],
   "source": [
    "X,y = data_preprocessing()"
   ]
  },
  {
   "cell_type": "code",
   "execution_count": 5,
   "metadata": {},
   "outputs": [],
   "source": [
    "def data_split(X,y):\n",
    "    \n",
    "    '''\n",
    "    This function takes the original datasets and splits them into training and testing datasets.\n",
    "    \n",
    "    Args:\n",
    "        X (ndarray): A 2D array containing the input processed data\n",
    "        y (ndarray): A 1D array containing a list of labels, with 1 corresponding to \"active\" and 0 corresponding to \"dummy\"\n",
    "        \n",
    "    Returns:\n",
    "        X_train (ndarray): 2D array of input dataset used for training\n",
    "        X_test (ndarray): 2D array of input dataset used for testing\n",
    "        y_train (ndarray): 1D array of train labels \n",
    "        y_test (ndarray): 1D array of test labels  \n",
    "        \n",
    "    '''\n",
    "\n",
    "    X_train, X_test, y_train, y_test = train_test_split(X, y, test_size=0.15, random_state=42)\n",
    "    \n",
    "    return X_train, X_test, y_train, y_test"
   ]
  },
  {
   "cell_type": "code",
   "execution_count": 6,
   "metadata": {},
   "outputs": [],
   "source": [
    "X_train, X_test, y_train, y_test = data_split(X,y)"
   ]
  },
  {
   "cell_type": "markdown",
   "metadata": {},
   "source": [
    "## 3. Model Evaluation\n"
   ]
  },
  {
   "cell_type": "markdown",
   "metadata": {},
   "source": [
    "This section produces the ROC plot, as well as several other performance metrics, including the classifier scores, the log-loss for each classifier, the confusion matrix and the classification report including the f1 score. The f1 score can be interpreted as a weighted average of the precision and recall, where an F1 score reaches its best value at 1 and worst score at 0."
   ]
  },
  {
   "cell_type": "code",
   "execution_count": 7,
   "metadata": {},
   "outputs": [],
   "source": [
    "def ROC_plotting(title, y_test, y_score):\n",
    "    \n",
    "    '''\n",
    "    This function generates the ROC plot for a given model.\n",
    "    \n",
    "    Args:\n",
    "        title (string): String represending the name of the model.\n",
    "        y_test (ndarray): 1D array of test dataset \n",
    "        y_score (ndarray): 1D array of model-predicted labels\n",
    "        \n",
    "    Returns:\n",
    "        ROC Plot\n",
    "        \n",
    "    '''\n",
    "    \n",
    "\n",
    "    fpr, tpr, _ = roc_curve(y_test, y_score)\n",
    "    roc_auc = auc(fpr, tpr)\n",
    "        \n",
    "    plt.figure()\n",
    "    lw = 2\n",
    "    plt.plot(fpr, tpr, color='darkorange', lw=lw, label='ROC curve (area = %0.2f)' % roc_auc)\n",
    "    plt.plot([0, 1], [0, 1], color='navy', lw=lw, linestyle='--')\n",
    "    plt.xlim([0.0, 1.0])\n",
    "    plt.ylim([0.0, 1.05])\n",
    "    plt.xlabel('False Positive Rate')\n",
    "    plt.ylabel('True Positive Rate')\n",
    "    plt.title(title)\n",
    "    plt.legend(loc=\"lower right\")\n",
    "    plt.show()"
   ]
  },
  {
   "cell_type": "code",
   "execution_count": 8,
   "metadata": {},
   "outputs": [],
   "source": [
    "def model_evaluation(X_train, X_test, y_train, y_test, predicted_train, predicted_test, y_score, title=\"model\"):\n",
    "    \n",
    "    '''\n",
    "    This function prints the results of the different classifiers,a s well as several performance metrics\n",
    "    \n",
    "    Args:\n",
    "        X_train (ndarray): 2D array of input dataset used for training\n",
    "        X_test (ndarray): 2D array of input dataset used for testing\n",
    "        y_train (ndarray): 1D array of train labels \n",
    "        y_test (ndarray): 1D array of test labels \n",
    "        title (string): the classifier name\n",
    "        predicted_train (ndarray): 1D array of model-predicted labels for the train dataset \n",
    "        predicted_test (ndarray): 1D array of model-predicted labels for the test dataset\n",
    "        \n",
    "    Returns:\n",
    "        ROC Plot\n",
    "        \n",
    "    '''\n",
    "    \n",
    "    print(\"For the \", title, \" classifier:\")\n",
    "    print(\"Training set score: %f\" % accuracy_score(y_train,predicted_train ))\n",
    "    print(\"Training log-loss: %f\" % log_loss(y_train, predicted_train))\n",
    "    print(\"Training set confusion matrix:\")\n",
    "    print(confusion_matrix(y_train,predicted_train))\n",
    "    print(\"Training set classification report:\")\n",
    "    print(classification_report(y_train,predicted_train))\n",
    "    \n",
    "    print(\"Test set score: %f\" % accuracy_score(y_test, predicted_test))\n",
    "    print(\"Test log-loss: %f\" % log_loss(y_test, predicted_test))\n",
    "    print(\"Test set confusion matrix:\")\n",
    "    print(confusion_matrix(y_test,predicted_test))\n",
    "    print(\"Test set classification report:\")\n",
    "    print(classification_report(y_test,predicted_test))\n",
    "\n",
    "    ROC_plotting(\"ROC for \"+ title,y_test, y_score)\n",
    "    fpr, tpr, _ = roc_curve(y_test, y_score)\n",
    "    roc_auc = auc(fpr, tpr)\n",
    "    print(\"AUC:\" + str(roc_auc))"
   ]
  },
  {
   "cell_type": "markdown",
   "metadata": {},
   "source": [
    "## 4. Logistic regression, linear and quadratic discriminant analysis"
   ]
  },
  {
   "cell_type": "markdown",
   "metadata": {},
   "source": [
    "### 4.1. Logistic regression"
   ]
  },
  {
   "cell_type": "markdown",
   "metadata": {},
   "source": [
    "Logistic regression (logit regression, log-liner classifier) is a generalized linear model used for classification that uses a log-linear link function to model the outcome of a binary reponse variable $\\mathbf{y}$ using a single or multiple predictors $\\mathbf{X}$. Mathematically, the logistic regression primarily computes the probability of the value of a response variable given a value of the predictor, and this probability is then used for predicting the most probable outcome. The logistic regression has several advantages: it is easy to implement, it is efficient to train and it does not require input features to be scaled. However, the logistic regression can only produce a non-linear decision boundary. Therefore, with a complex dataset as ours, we do not expect it to perform particularly well."
   ]
  },
  {
   "cell_type": "code",
   "execution_count": 9,
   "metadata": {},
   "outputs": [],
   "source": [
    "def LogReg(X_train, y_train, X_test):\n",
    "    \"\"\"Classification using logistic regression \n",
    "\n",
    "    Args:\n",
    "        X_train: Predictor or feature values used for training\n",
    "        y_train: Response values used for training\n",
    "        X_test: Predictor or feature values used for predicting the response values using the classifier\n",
    "\n",
    "    Returns:\n",
    "        y_predicted: The predicted response values\n",
    "\n",
    "    \"\"\"\n",
    "    scaler = StandardScaler()\n",
    "    scaler.fit(X_train)\n",
    "    X_train = scaler.transform(X_train)\n",
    "    X_test = scaler.transform(X_test)\n",
    "    \n",
    "    #Define and train the model\n",
    "    classifier = LogisticRegression().fit(X_train, y_train)\n",
    "    \n",
    "    #Predict the response values using the test predictor data\n",
    "    y_predicted_test = classifier.predict(X_test)\n",
    "    y_predicted_train = classifier.predict(X_train)\n",
    "    y_score = classifier.predict_proba(X_test)[:,1]\n",
    "    return y_predicted_train, y_predicted_test, y_score"
   ]
  },
  {
   "cell_type": "code",
   "execution_count": 10,
   "metadata": {},
   "outputs": [
    {
     "name": "stderr",
     "output_type": "stream",
     "text": [
      "/home/neiro/anaconda3/lib/python3.7/site-packages/sklearn/linear_model/logistic.py:432: FutureWarning: Default solver will be changed to 'lbfgs' in 0.22. Specify a solver to silence this warning.\n",
      "  FutureWarning)\n"
     ]
    }
   ],
   "source": [
    "y_predicted_train, y_predicted_test, y_score = LogReg(X_train, y_train, X_test)"
   ]
  },
  {
   "cell_type": "code",
   "execution_count": 11,
   "metadata": {},
   "outputs": [
    {
     "name": "stdout",
     "output_type": "stream",
     "text": [
      "For the  Logistic Regression  classifier:\n",
      "Training set score: 0.998297\n",
      "Training log-loss: 0.058823\n",
      "Training set confusion matrix:\n",
      "[[34780     9]\n",
      " [   51   390]]\n",
      "Training set classification report:\n",
      "              precision    recall  f1-score   support\n",
      "\n",
      "         0.0       1.00      1.00      1.00     34789\n",
      "         1.0       0.98      0.88      0.93       441\n",
      "\n",
      "    accuracy                           1.00     35230\n",
      "   macro avg       0.99      0.94      0.96     35230\n",
      "weighted avg       1.00      1.00      1.00     35230\n",
      "\n",
      "Test set score: 0.997909\n",
      "Test log-loss: 0.072211\n",
      "Test set confusion matrix:\n",
      "[[6120    6]\n",
      " [   7   85]]\n",
      "Test set classification report:\n",
      "              precision    recall  f1-score   support\n",
      "\n",
      "         0.0       1.00      1.00      1.00      6126\n",
      "         1.0       0.93      0.92      0.93        92\n",
      "\n",
      "    accuracy                           1.00      6218\n",
      "   macro avg       0.97      0.96      0.96      6218\n",
      "weighted avg       1.00      1.00      1.00      6218\n",
      "\n"
     ]
    },
    {
     "data": {
      "image/png": "[encoded data removed]",
      "text/plain": [
       "<Figure size 432x288 with 1 Axes>"
      ]
     },
     "metadata": {
      "needs_background": "light"
     },
     "output_type": "display_data"
    },
    {
     "name": "stdout",
     "output_type": "stream",
     "text": [
      "AUC:0.9994215673749804\n"
     ]
    }
   ],
   "source": [
    "model_evaluation(X_train, X_test, y_train, y_test, y_predicted_train, y_predicted_test, y_score, title='Logistic Regression')"
   ]
  },
  {
   "cell_type": "markdown",
   "metadata": {},
   "source": [
    "### 4.2. Linear discriminant analysis"
   ]
  },
  {
   "cell_type": "markdown",
   "metadata": {},
   "source": [
    "LDA employs Bayes' theorem to fit a Gaussian density to each class of data. The classes are assumed to have the same covariance matrix. This generates a linear decision boundry. "
   ]
  },
  {
   "cell_type": "code",
   "execution_count": 12,
   "metadata": {},
   "outputs": [],
   "source": [
    "def LDA(X_train, y_train, X_test):\n",
    "    \n",
    "    \"\"\"Classification using LDA \n",
    "\n",
    "    Args:\n",
    "        X_train: Predictor or feature values used for training\n",
    "        y_train: Response values used for training\n",
    "        X_test: Predictor or feature values used for predicting the response values using the classifier\n",
    "\n",
    "    Returns:\n",
    "        y_predicted_train: The predicted response values for the training dataset\n",
    "        y_predicted_test: The predicted response values for the test dataset\n",
    "\n",
    "    \"\"\"\n",
    "    \n",
    "    classifier = LinearDiscriminantAnalysis()\n",
    "    classifier = classifier.fit(X_train, y_train)\n",
    "    y_predicted_test = classifier.predict(X_test)\n",
    "    y_predicted_train = classifier.predict(X_train)\n",
    "    y_score = classifier.predict_proba(X_test)[:,1]\n",
    "    return y_predicted_train, y_predicted_test, y_score"
   ]
  },
  {
   "cell_type": "code",
   "execution_count": 13,
   "metadata": {},
   "outputs": [
    {
     "name": "stderr",
     "output_type": "stream",
     "text": [
      "/home/neiro/anaconda3/lib/python3.7/site-packages/sklearn/discriminant_analysis.py:388: UserWarning: Variables are collinear.\n",
      "  warnings.warn(\"Variables are collinear.\")\n"
     ]
    }
   ],
   "source": [
    "y_predicted_train, y_predicted_test, y_score = LDA(X_train, y_train, X_test)"
   ]
  },
  {
   "cell_type": "code",
   "execution_count": 14,
   "metadata": {},
   "outputs": [
    {
     "name": "stdout",
     "output_type": "stream",
     "text": [
      "For the  Linear Discriminant  classifier:\n",
      "Training set score: 0.992932\n",
      "Training log-loss: 0.244118\n",
      "Training set confusion matrix:\n",
      "[[34631   158]\n",
      " [   91   350]]\n",
      "Training set classification report:\n",
      "              precision    recall  f1-score   support\n",
      "\n",
      "         0.0       1.00      1.00      1.00     34789\n",
      "         1.0       0.69      0.79      0.74       441\n",
      "\n",
      "    accuracy                           0.99     35230\n",
      "   macro avg       0.84      0.89      0.87     35230\n",
      "weighted avg       0.99      0.99      0.99     35230\n",
      "\n",
      "Test set score: 0.992441\n",
      "Test log-loss: 0.261072\n",
      "Test set confusion matrix:\n",
      "[[6095   31]\n",
      " [  16   76]]\n",
      "Test set classification report:\n",
      "              precision    recall  f1-score   support\n",
      "\n",
      "         0.0       1.00      0.99      1.00      6126\n",
      "         1.0       0.71      0.83      0.76        92\n",
      "\n",
      "    accuracy                           0.99      6218\n",
      "   macro avg       0.85      0.91      0.88      6218\n",
      "weighted avg       0.99      0.99      0.99      6218\n",
      "\n"
     ]
    },
    {
     "data": {
      "image/png": "[encoded data removed]",
      "text/plain": [
       "<Figure size 432x288 with 1 Axes>"
      ]
     },
     "metadata": {
      "needs_background": "light"
     },
     "output_type": "display_data"
    },
    {
     "name": "stdout",
     "output_type": "stream",
     "text": [
      "AUC:0.9961798606083834\n"
     ]
    }
   ],
   "source": [
    "model_evaluation(X_train, X_test, y_train, y_test, y_predicted_train, y_predicted_test, y_score, title='Linear Discriminant')"
   ]
  },
  {
   "cell_type": "markdown",
   "metadata": {},
   "source": [
    "### 4.3. Quadratic discriminant analysis"
   ]
  },
  {
   "cell_type": "markdown",
   "metadata": {},
   "source": [
    "QDA is similar to LDA, however it employs a quadratic decision boundary, rather than a linear one."
   ]
  },
  {
   "cell_type": "code",
   "execution_count": 15,
   "metadata": {},
   "outputs": [],
   "source": [
    "def QDA(X_train, y_train, X_test):\n",
    "    \"\"\"Classification using QDA \n",
    "\n",
    "    Args:\n",
    "        X_train: Predictor or feature values used for training\n",
    "        y_train: Response values used for training\n",
    "        X_test: Predictor or feature values used for predicting the response values using the classifier\n",
    "\n",
    "    Returns:\n",
    "        y_predicted_train: The predicted response values for the training dataset\n",
    "        y_predicted_test: The predicted response values for the test dataset\n",
    "\n",
    "    \"\"\"\n",
    "    classifier = QuadraticDiscriminantAnalysis()\n",
    "    classifier = classifier.fit(X_train, y_train)\n",
    "    y_predicted_test = classifier.predict(X_test)\n",
    "    y_predicted_train = classifier.predict(X_train)\n",
    "    y_score = classifier.predict_proba(X_test)[:,1]\n",
    "    return y_predicted_train, y_predicted_test, y_score"
   ]
  },
  {
   "cell_type": "code",
   "execution_count": 16,
   "metadata": {},
   "outputs": [],
   "source": [
    "y_predicted_train, y_predicted_test, y_score = QDA(X_train, y_train, X_test)"
   ]
  },
  {
   "cell_type": "code",
   "execution_count": 17,
   "metadata": {},
   "outputs": [
    {
     "name": "stdout",
     "output_type": "stream",
     "text": [
      "For the  Quadratic Discriminant  classifier:\n",
      "Training set score: 0.315640\n",
      "Training log-loss: 23.637501\n",
      "Training set confusion matrix:\n",
      "[[10679 24110]\n",
      " [    0   441]]\n",
      "Training set classification report:\n",
      "              precision    recall  f1-score   support\n",
      "\n",
      "         0.0       1.00      0.31      0.47     34789\n",
      "         1.0       0.02      1.00      0.04       441\n",
      "\n",
      "    accuracy                           0.32     35230\n",
      "   macro avg       0.51      0.65      0.25     35230\n",
      "weighted avg       0.99      0.32      0.46     35230\n",
      "\n",
      "Test set score: 0.322129\n",
      "Test log-loss: 23.413366\n",
      "Test set confusion matrix:\n",
      "[[1914 4212]\n",
      " [   3   89]]\n",
      "Test set classification report:\n",
      "              precision    recall  f1-score   support\n",
      "\n",
      "         0.0       1.00      0.31      0.48      6126\n",
      "         1.0       0.02      0.97      0.04        92\n",
      "\n",
      "    accuracy                           0.32      6218\n",
      "   macro avg       0.51      0.64      0.26      6218\n",
      "weighted avg       0.98      0.32      0.47      6218\n",
      "\n"
     ]
    },
    {
     "data": {
      "image/png": "[encoded data removed]",
      "text/plain": [
       "<Figure size 432x288 with 1 Axes>"
      ]
     },
     "metadata": {
      "needs_background": "light"
     },
     "output_type": "display_data"
    },
    {
     "name": "stdout",
     "output_type": "stream",
     "text": [
      "AUC:0.6401164317449503\n"
     ]
    }
   ],
   "source": [
    "model_evaluation(X_train, X_test, y_train, y_test, y_predicted_train, y_predicted_test, y_score, title='Quadratic Discriminant')"
   ]
  },
  {
   "cell_type": "markdown",
   "metadata": {},
   "source": [
    "## 5. Decision trees and random forest"
   ]
  },
  {
   "cell_type": "markdown",
   "metadata": {},
   "source": [
    "### 5.1. Single decision tree"
   ]
  },
  {
   "cell_type": "markdown",
   "metadata": {},
   "source": [
    "Decision trees are a non-parametric learning method used for both classification and regression. The advantages of decision trees are that they are easy to understand and they can be used for a broad range of data. However, the main disadvantages are that a single decision tree is easily overfitted and hence even small perturbations in the data might result in a markedly different classifier. This problem is tackled by generating several decision trees for deriving the final classifier. Here, we first train a single decision tree before we looking into more sophisticated ensemble methods."
   ]
  },
  {
   "cell_type": "markdown",
   "metadata": {},
   "source": [
    "We fit a single decision tree with default parameters and predict the values of $\\mathbf{y}$ based on the test data."
   ]
  },
  {
   "cell_type": "code",
   "execution_count": 18,
   "metadata": {},
   "outputs": [],
   "source": [
    "def DecisionTree(X_train, y_train, X_test):\n",
    "    \n",
    "    \"\"\"Classification using Decision Tree \n",
    "\n",
    "    Args:\n",
    "        X_train: Predictor or feature values used for training\n",
    "        y_train: Response values used for training\n",
    "        X_test: Predictor or feature values used for predicting the response values using the classifier\n",
    "\n",
    "    Returns:\n",
    "        y_predicted_train: The predicted response values for the training dataset\n",
    "        y_predicted_test: The predicted response values for the test dataset\n",
    "\n",
    "    \"\"\"\n",
    "    \n",
    "    classifier = tree.DecisionTreeClassifier()\n",
    "    classifier = classifier.fit(X_train, y_train)\n",
    "    y_predicted_test = classifier.predict(X_test)\n",
    "    y_predicted_train = classifier.predict(X_train)\n",
    "    y_score = classifier.predict_proba(X_test)[:,1]\n",
    "    return y_predicted_train, y_predicted_test, y_score"
   ]
  },
  {
   "cell_type": "code",
   "execution_count": 19,
   "metadata": {},
   "outputs": [],
   "source": [
    "y_predicted_train, y_predicted_test, y_score = DecisionTree(X_train, y_train, X_test)"
   ]
  },
  {
   "cell_type": "code",
   "execution_count": 20,
   "metadata": {},
   "outputs": [
    {
     "name": "stdout",
     "output_type": "stream",
     "text": [
      "For the  Decision Tree  classifier:\n",
      "Training set score: 1.000000\n",
      "Training log-loss: 0.000000\n",
      "Training set confusion matrix:\n",
      "[[34789     0]\n",
      " [    0   441]]\n",
      "Training set classification report:\n",
      "              precision    recall  f1-score   support\n",
      "\n",
      "         0.0       1.00      1.00      1.00     34789\n",
      "         1.0       1.00      1.00      1.00       441\n",
      "\n",
      "    accuracy                           1.00     35230\n",
      "   macro avg       1.00      1.00      1.00     35230\n",
      "weighted avg       1.00      1.00      1.00     35230\n",
      "\n",
      "Test set score: 0.993085\n",
      "Test log-loss: 0.238852\n",
      "Test set confusion matrix:\n",
      "[[6105   21]\n",
      " [  22   70]]\n",
      "Test set classification report:\n",
      "              precision    recall  f1-score   support\n",
      "\n",
      "         0.0       1.00      1.00      1.00      6126\n",
      "         1.0       0.77      0.76      0.77        92\n",
      "\n",
      "    accuracy                           0.99      6218\n",
      "   macro avg       0.88      0.88      0.88      6218\n",
      "weighted avg       0.99      0.99      0.99      6218\n",
      "\n"
     ]
    },
    {
     "data": {
      "image/png": "[encoded data removed]",
      "text/plain": [
       "<Figure size 432x288 with 1 Axes>"
      ]
     },
     "metadata": {
      "needs_background": "light"
     },
     "output_type": "display_data"
    },
    {
     "name": "stdout",
     "output_type": "stream",
     "text": [
      "AUC:0.878720776732104\n"
     ]
    }
   ],
   "source": [
    "model_evaluation(X_train, X_test, y_train, y_test, y_predicted_train, y_predicted_test, y_score, title='Decision Tree')"
   ]
  },
  {
   "cell_type": "markdown",
   "metadata": {},
   "source": [
    "### 5.2. Random forest"
   ]
  },
  {
   "cell_type": "markdown",
   "metadata": {},
   "source": [
    "Radnom forest explanation..."
   ]
  },
  {
   "cell_type": "code",
   "execution_count": 21,
   "metadata": {},
   "outputs": [],
   "source": [
    "def RandomForest(X_train, y_train, X_test):\n",
    "    \n",
    "    \"\"\"Classification using Random Forest \n",
    "\n",
    "    Args:\n",
    "        X_train: Predictor or feature values used for training\n",
    "        y_train: Response values used for training\n",
    "        X_test: Predictor or feature values used for predicting the response values using the classifier\n",
    "\n",
    "    Returns:\n",
    "        y_predicted_train: The predicted response values for the training dataset\n",
    "        y_predicted_test: The predicted response values for the test dataset\n",
    "\n",
    "    \"\"\"\n",
    "    \n",
    "    rf_classifier = RandomForestClassifier(n_estimators=100)\n",
    "    rf_classifier = rf_classifier.fit(X_train, y_train)\n",
    "    y_predicted_test = rf_classifier.predict(X_test)\n",
    "    y_predicted_train = rf_classifier.predict(X_train)\n",
    "    y_score = rf_classifier.predict_proba(X_test)[:,1]\n",
    "    return y_predicted_train, y_predicted_test, y_score"
   ]
  },
  {
   "cell_type": "code",
   "execution_count": 22,
   "metadata": {},
   "outputs": [],
   "source": [
    "y_predicted_train, y_predicted_test, y_score = RandomForest(X_train, y_train, X_test)"
   ]
  },
  {
   "cell_type": "code",
   "execution_count": 23,
   "metadata": {},
   "outputs": [
    {
     "name": "stdout",
     "output_type": "stream",
     "text": [
      "For the  Random Forest  classifier:\n",
      "Training set score: 1.000000\n",
      "Training log-loss: 0.000000\n",
      "Training set confusion matrix:\n",
      "[[34789     0]\n",
      " [    0   441]]\n",
      "Training set classification report:\n",
      "              precision    recall  f1-score   support\n",
      "\n",
      "         0.0       1.00      1.00      1.00     34789\n",
      "         1.0       1.00      1.00      1.00       441\n",
      "\n",
      "    accuracy                           1.00     35230\n",
      "   macro avg       1.00      1.00      1.00     35230\n",
      "weighted avg       1.00      1.00      1.00     35230\n",
      "\n",
      "Test set score: 0.995497\n",
      "Test log-loss: 0.155530\n",
      "Test set confusion matrix:\n",
      "[[6126    0]\n",
      " [  28   64]]\n",
      "Test set classification report:\n",
      "              precision    recall  f1-score   support\n",
      "\n",
      "         0.0       1.00      1.00      1.00      6126\n",
      "         1.0       1.00      0.70      0.82        92\n",
      "\n",
      "    accuracy                           1.00      6218\n",
      "   macro avg       1.00      0.85      0.91      6218\n",
      "weighted avg       1.00      1.00      1.00      6218\n",
      "\n"
     ]
    },
    {
     "data": {
      "image/png": "[encoded data removed]",
      "text/plain": [
       "<Figure size 432x288 with 1 Axes>"
      ]
     },
     "metadata": {
      "needs_background": "light"
     },
     "output_type": "display_data"
    },
    {
     "name": "stdout",
     "output_type": "stream",
     "text": [
      "AUC:0.9991900168916521\n"
     ]
    }
   ],
   "source": [
    "model_evaluation(X_train, X_test, y_train, y_test, y_predicted_train, y_predicted_test, y_score, title='Random Forest')"
   ]
  },
  {
   "cell_type": "markdown",
   "metadata": {},
   "source": [
    "## 6. Neural Network"
   ]
  },
  {
   "cell_type": "markdown",
   "metadata": {},
   "source": [
    "A Neural Network, also known as a multi-layered perceptron, is a supervised learning algorithm that learns a function, which is trained using a set of features and targets. A neural network can learns a non-linear function approximator, allowing classification of data. Between the input and output layers, there are a set of non-linear hidden layers. The advantages of a neural network are it's ability to learn non-linear models and perform learning in real-time. However, a NN can suffer from different validation accuracy induced by random weight initialization, has a large number of hyper parameters which require tunning and is sensitive to feature scaling. \n",
    "\n",
    "The neural_network function below makes use of inbuilt MLPClassifier, which implements a multi-layer perceptron (MLP) algorithm that trains using Backpropagation.\n",
    "\n",
    "As MLPs are sensitive to feature scaling, the data is scaled using the built-in StandardScaler for standardization. The same scaling s applied to the test set for meaningful results.\n",
    "\n",
    "Most of the MLPClassifier's parameters where left to random. However, several were modifed in order to enhance performance. Firstly, the solver was set to _adam_, which reffers to a stochastic gradient-based optimizer, the alpha regularization parameter was set to 1e-5, the number of hidden layers was set to 2, each with 70 neurons (numbers determined through experimentation throughout the day), and the max_iterations was set to 1500."
   ]
  },
  {
   "cell_type": "code",
   "execution_count": 24,
   "metadata": {},
   "outputs": [],
   "source": [
    "def neural_network(X_train, X_test, y_train, y_test):\n",
    "    \n",
    "    '''\n",
    "    This function takes in the input datasets, creates a neural network, trains and then tests it.\n",
    "    \n",
    "    Written by AndreiRoibu\n",
    "    \n",
    "    Args:\n",
    "        X_train (ndarray): 2D array of input dataset used for training\n",
    "        X_test (ndarray): 2D array of input dataset used for testing\n",
    "        y_train (ndarray): 1D array of train labels \n",
    "        y_test (ndarray): 1D array of test labels  \n",
    "        \n",
    "    Returns:\n",
    "        predicted_train (ndarray): 1D array of model-predicted labels for the train dataset \n",
    "        predicted_test (ndarray): 1D array of model-predicted labels for the test dataset\n",
    "        \n",
    "    '''\n",
    "    \n",
    "    scaler = StandardScaler()\n",
    "    scaler.fit(X_train)\n",
    "    X_train = scaler.transform(X_train)\n",
    "    X_test = scaler.transform(X_test)\n",
    "    \n",
    "    classifier = MLPClassifier(solver='adam', alpha=1e-5, hidden_layer_sizes=(70,70), random_state=1, max_iter=1500)\n",
    "    \n",
    "    classifier.fit(X_train, y_train)\n",
    "    \n",
    "    predicted_train = classifier.predict(X_train)\n",
    "    predicted_test = classifier.predict(X_test)\n",
    "    y_score = classifier.predict_proba(X_test)[:,1]\n",
    "    return predicted_train, predicted_test, y_score"
   ]
  },
  {
   "cell_type": "code",
   "execution_count": 25,
   "metadata": {},
   "outputs": [],
   "source": [
    "y_predicted_train, y_predicted_test, y_score = neural_network(X_train, X_test, y_train, y_test)"
   ]
  },
  {
   "cell_type": "code",
   "execution_count": 26,
   "metadata": {},
   "outputs": [
    {
     "name": "stdout",
     "output_type": "stream",
     "text": [
      "For the  Neural Network  classifier:\n",
      "Training set score: 1.000000\n",
      "Training log-loss: 0.000000\n",
      "Training set confusion matrix:\n",
      "[[34789     0]\n",
      " [    0   441]]\n",
      "Training set classification report:\n",
      "              precision    recall  f1-score   support\n",
      "\n",
      "         0.0       1.00      1.00      1.00     34789\n",
      "         1.0       1.00      1.00      1.00       441\n",
      "\n",
      "    accuracy                           1.00     35230\n",
      "   macro avg       1.00      1.00      1.00     35230\n",
      "weighted avg       1.00      1.00      1.00     35230\n",
      "\n",
      "Test set score: 0.998713\n",
      "Test log-loss: 0.044437\n",
      "Test set confusion matrix:\n",
      "[[6124    2]\n",
      " [   6   86]]\n",
      "Test set classification report:\n",
      "              precision    recall  f1-score   support\n",
      "\n",
      "         0.0       1.00      1.00      1.00      6126\n",
      "         1.0       0.98      0.93      0.96        92\n",
      "\n",
      "    accuracy                           1.00      6218\n",
      "   macro avg       0.99      0.97      0.98      6218\n",
      "weighted avg       1.00      1.00      1.00      6218\n",
      "\n"
     ]
    },
    {
     "data": {
      "image/png": "[encoded data removed]",
      "text/plain": [
       "<Figure size 432x288 with 1 Axes>"
      ]
     },
     "metadata": {
      "needs_background": "light"
     },
     "output_type": "display_data"
    },
    {
     "name": "stdout",
     "output_type": "stream",
     "text": [
      "AUC:0.9997480446848075\n"
     ]
    }
   ],
   "source": [
    "model_evaluation(X_train, X_test, y_train, y_test, y_predicted_train, y_predicted_test, y_score, title='Neural Network')"
   ]
  }
 ],
 "metadata": {
  "kernelspec": {
   "display_name": "Python 3",
   "language": "python",
   "name": "python3"
  },
  "language_info": {
   "codemirror_mode": {
    "name": "ipython",
    "version": 3
   },
   "file_extension": ".py",
   "mimetype": "text/x-python",
   "name": "python",
   "nbconvert_exporter": "python",
   "pygments_lexer": "ipython3",
   "version": "3.7.3"
  }
 },
 "nbformat": 4,
 "nbformat_minor": 2
}
